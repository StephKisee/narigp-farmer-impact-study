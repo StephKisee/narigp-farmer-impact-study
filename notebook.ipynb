{
 "cells": [
  {
   "cell_type": "code",
   "execution_count": 6,
   "id": "initial_id",
   "metadata": {
    "collapsed": true,
    "ExecuteTime": {
     "end_time": "2024-01-07T15:26:26.508555Z",
     "start_time": "2024-01-07T15:26:26.498190200Z"
    }
   },
   "outputs": [],
   "source": [
    "import plotly.express as px\n",
    "import geopandas as gpd"
   ]
  },
  {
   "cell_type": "code",
   "outputs": [
    {
     "data": {
      "text/plain": "    county sub_county              ward  \\\n0  Makueni    Mbooni           Tulimani   \n1  Makueni    Mbooni             Mbooni   \n2  Makueni    Mbooni   Kithungo/Kitundu   \n3  Makueni    Mbooni       Kiteta-Kisau   \n4  Makueni    Mbooni          Waia/Kako   \n\n                                            geometry  \n0  POLYGON ((37.38407 -1.52204, 37.38428 -1.52226...  \n1  POLYGON ((37.49096 -1.61270, 37.49123 -1.61276...  \n2  POLYGON ((37.50016 -1.61075, 37.50026 -1.61080...  \n3  POLYGON ((37.49057 -1.52000, 37.49078 -1.52015...  \n4  POLYGON ((37.60130 -1.56392, 37.60165 -1.56393...  ",
      "text/html": "<div>\n<style scoped>\n    .dataframe tbody tr th:only-of-type {\n        vertical-align: middle;\n    }\n\n    .dataframe tbody tr th {\n        vertical-align: top;\n    }\n\n    .dataframe thead th {\n        text-align: right;\n    }\n</style>\n<table border=\"1\" class=\"dataframe\">\n  <thead>\n    <tr style=\"text-align: right;\">\n      <th></th>\n      <th>county</th>\n      <th>sub_county</th>\n      <th>ward</th>\n      <th>geometry</th>\n    </tr>\n  </thead>\n  <tbody>\n    <tr>\n      <th>0</th>\n      <td>Makueni</td>\n      <td>Mbooni</td>\n      <td>Tulimani</td>\n      <td>POLYGON ((37.38407 -1.52204, 37.38428 -1.52226...</td>\n    </tr>\n    <tr>\n      <th>1</th>\n      <td>Makueni</td>\n      <td>Mbooni</td>\n      <td>Mbooni</td>\n      <td>POLYGON ((37.49096 -1.61270, 37.49123 -1.61276...</td>\n    </tr>\n    <tr>\n      <th>2</th>\n      <td>Makueni</td>\n      <td>Mbooni</td>\n      <td>Kithungo/Kitundu</td>\n      <td>POLYGON ((37.50016 -1.61075, 37.50026 -1.61080...</td>\n    </tr>\n    <tr>\n      <th>3</th>\n      <td>Makueni</td>\n      <td>Mbooni</td>\n      <td>Kiteta-Kisau</td>\n      <td>POLYGON ((37.49057 -1.52000, 37.49078 -1.52015...</td>\n    </tr>\n    <tr>\n      <th>4</th>\n      <td>Makueni</td>\n      <td>Mbooni</td>\n      <td>Waia/Kako</td>\n      <td>POLYGON ((37.60130 -1.56392, 37.60165 -1.56393...</td>\n    </tr>\n  </tbody>\n</table>\n</div>"
     },
     "execution_count": 7,
     "metadata": {},
     "output_type": "execute_result"
    }
   ],
   "source": [
    "# Import kenya_wards geojson file\n",
    "kenya_wards = gpd.read_file('data/processed/geojson/kenya_wards.geojson')\n",
    "\n",
    "makueni_wards = kenya_wards[kenya_wards['county'] == 'Makueni'].reset_index(drop=True)\n",
    "\n",
    "makueni_wards.head()"
   ],
   "metadata": {
    "collapsed": false,
    "ExecuteTime": {
     "end_time": "2024-01-07T15:26:45.367962500Z",
     "start_time": "2024-01-07T15:26:26.506562600Z"
    }
   },
   "id": "46c5ceb0d64a9160",
   "execution_count": 7
  },
  {
   "cell_type": "code",
   "outputs": [],
   "source": [
    "# Plot makueni wards using plotly (don't use mapbox)\n",
    "fig = px.choropleth(makueni_wards, geojson=makueni_wards.geometry, locations=makueni_wards.index, color='ward', color_discrete_sequence=px.colors.qualitative.Pastel, projection='mercator', labels={'sub_county':'Sub County', 'ward':'Ward'})\n",
    "fig.update_geos(fitbounds='locations', visible=False)\n",
    "fig.show()"
   ],
   "metadata": {
    "collapsed": false,
    "ExecuteTime": {
     "end_time": "2024-01-07T15:27:08.915108500Z",
     "start_time": "2024-01-07T15:26:45.382917800Z"
    }
   },
   "id": "ffe8f23054f972a3",
   "execution_count": 8
  },
  {
   "cell_type": "code",
   "outputs": [],
   "source": [
    "narig_wards = ['Tulimani', 'Kiteta-Kisau', 'Waia/Kako', 'Kalawa/ Kathulumbi',\n",
    " 'Kee', 'Kilungu', 'Ilima',\n",
    " 'Muvau/Kikumini', 'Mavindini', 'Kitise/Kithuki', 'Mbitini',\n",
    " 'Kiima Kiu/Kalanzoni', 'Mukaa', 'Kasikeu',\n",
    " 'Emali/Mulala', 'Kikumbulyu North', 'Kikumbulyu South',\n",
    " 'Thange', 'Masongaleni', 'Mtito Andei']\n",
    "\n",
    "narig_wards = makueni_wards[makueni_wards['ward'].isin(narig_wards)].reset_index(drop=True)\n",
    "\n",
    "narig_wards"
   ],
   "metadata": {
    "collapsed": false,
    "is_executing": true,
    "ExecuteTime": {
     "start_time": "2024-01-07T15:26:26.204003200Z"
    }
   },
   "id": "edd1dcf132f4bf0c",
   "execution_count": null
  }
 ],
 "metadata": {
  "kernelspec": {
   "display_name": "Python 3",
   "language": "python",
   "name": "python3"
  },
  "language_info": {
   "codemirror_mode": {
    "name": "ipython",
    "version": 2
   },
   "file_extension": ".py",
   "mimetype": "text/x-python",
   "name": "python",
   "nbconvert_exporter": "python",
   "pygments_lexer": "ipython2",
   "version": "2.7.6"
  }
 },
 "nbformat": 4,
 "nbformat_minor": 5
}
