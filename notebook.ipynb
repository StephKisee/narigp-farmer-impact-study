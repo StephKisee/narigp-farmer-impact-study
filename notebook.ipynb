{
 "cells": [
  {
   "cell_type": "code",
   "execution_count": 1,
   "id": "initial_id",
   "metadata": {
    "collapsed": true,
    "ExecuteTime": {
     "end_time": "2024-01-07T16:36:23.961213400Z",
     "start_time": "2024-01-07T16:36:18.359058300Z"
    }
   },
   "outputs": [],
   "source": [
    "import plotly.express as px\n",
    "import geopandas as gpd"
   ]
  },
  {
   "cell_type": "code",
   "outputs": [
    {
     "data": {
      "text/plain": "    county sub_county              ward  \\\n0  Makueni    Mbooni           Tulimani   \n1  Makueni    Mbooni             Mbooni   \n2  Makueni    Mbooni   Kithungo/Kitundu   \n3  Makueni    Mbooni       Kiteta-Kisau   \n4  Makueni    Mbooni          Waia/Kako   \n\n                                            geometry  \n0  POLYGON ((37.38407 -1.52204, 37.38428 -1.52226...  \n1  POLYGON ((37.49096 -1.61270, 37.49123 -1.61276...  \n2  POLYGON ((37.50016 -1.61075, 37.50026 -1.61080...  \n3  POLYGON ((37.49057 -1.52000, 37.49078 -1.52015...  \n4  POLYGON ((37.60130 -1.56392, 37.60165 -1.56393...  ",
      "text/html": "<div>\n<style scoped>\n    .dataframe tbody tr th:only-of-type {\n        vertical-align: middle;\n    }\n\n    .dataframe tbody tr th {\n        vertical-align: top;\n    }\n\n    .dataframe thead th {\n        text-align: right;\n    }\n</style>\n<table border=\"1\" class=\"dataframe\">\n  <thead>\n    <tr style=\"text-align: right;\">\n      <th></th>\n      <th>county</th>\n      <th>sub_county</th>\n      <th>ward</th>\n      <th>geometry</th>\n    </tr>\n  </thead>\n  <tbody>\n    <tr>\n      <th>0</th>\n      <td>Makueni</td>\n      <td>Mbooni</td>\n      <td>Tulimani</td>\n      <td>POLYGON ((37.38407 -1.52204, 37.38428 -1.52226...</td>\n    </tr>\n    <tr>\n      <th>1</th>\n      <td>Makueni</td>\n      <td>Mbooni</td>\n      <td>Mbooni</td>\n      <td>POLYGON ((37.49096 -1.61270, 37.49123 -1.61276...</td>\n    </tr>\n    <tr>\n      <th>2</th>\n      <td>Makueni</td>\n      <td>Mbooni</td>\n      <td>Kithungo/Kitundu</td>\n      <td>POLYGON ((37.50016 -1.61075, 37.50026 -1.61080...</td>\n    </tr>\n    <tr>\n      <th>3</th>\n      <td>Makueni</td>\n      <td>Mbooni</td>\n      <td>Kiteta-Kisau</td>\n      <td>POLYGON ((37.49057 -1.52000, 37.49078 -1.52015...</td>\n    </tr>\n    <tr>\n      <th>4</th>\n      <td>Makueni</td>\n      <td>Mbooni</td>\n      <td>Waia/Kako</td>\n      <td>POLYGON ((37.60130 -1.56392, 37.60165 -1.56393...</td>\n    </tr>\n  </tbody>\n</table>\n</div>"
     },
     "execution_count": 2,
     "metadata": {},
     "output_type": "execute_result"
    }
   ],
   "source": [
    "# Import kenya_wards geojson file\n",
    "kenya_wards = gpd.read_file('data/processed/geojson/kenya_wards.geojson')\n",
    "\n",
    "makueni_wards = kenya_wards[kenya_wards['county'] == 'Makueni'].reset_index(drop=True)\n",
    "\n",
    "makueni_wards.head()"
   ],
   "metadata": {
    "collapsed": false,
    "ExecuteTime": {
     "end_time": "2024-01-07T16:36:53.613082900Z",
     "start_time": "2024-01-07T16:36:23.964174600Z"
    }
   },
   "id": "46c5ceb0d64a9160",
   "execution_count": 2
  },
  {
   "cell_type": "code",
   "outputs": [
    {
     "data": {
      "text/plain": "     county     sub_county                 ward  \\\n0   Makueni        Mbooni              Tulimani   \n1   Makueni        Mbooni          Kiteta-Kisau   \n2   Makueni        Mbooni             Waia/Kako   \n3   Makueni        Mbooni    Kalawa/ Kathulumbi   \n4   Makueni         Kilome              Kasikeu   \n5   Makueni         Kilome                Mukaa   \n6   Makueni         Kilome  Kiima Kiu/Kalanzoni   \n7   Makueni         Kaiti                   Kee   \n8   Makueni         Kaiti               Kilungu   \n9   Makueni         Kaiti                 Ilima   \n10  Makueni       Makueni        Muvau/Kikumini   \n11  Makueni       Makueni             Mavindini   \n12  Makueni       Makueni        Kitise/Kithuki   \n13  Makueni       Makueni               Mbitini   \n14  Makueni  Kibwezi West      Kikumbulyu North   \n15  Makueni  Kibwezi West      Kikumbulyu South   \n16  Makueni  Kibwezi West          Emali/Mulala   \n17  Makueni  Kibwezi East           Masongaleni   \n18  Makueni  Kibwezi East           Mtito Andei   \n19  Makueni  Kibwezi East                Thange   \n\n                                             geometry  \n0   POLYGON ((37.38407 -1.52204, 37.38428 -1.52226...  \n1   POLYGON ((37.49057 -1.52000, 37.49078 -1.52015...  \n2   POLYGON ((37.60130 -1.56392, 37.60165 -1.56393...  \n3   POLYGON ((37.75782 -1.57146, 37.75805 -1.57184...  \n4   POLYGON ((37.34711 -1.87177, 37.34723 -1.87229...  \n5   POLYGON ((37.32817 -1.78039, 37.32821 -1.78064...  \n6   POLYGON ((37.22865 -1.73701, 37.23275 -1.73807...  \n7   POLYGON ((37.41677 -1.69116, 37.41706 -1.69120...  \n8   POLYGON ((37.34680 -1.73542, 37.34681 -1.73585...  \n9   POLYGON ((37.40887 -1.74417, 37.40911 -1.74428...  \n10  POLYGON ((37.70050 -1.75816, 37.70084 -1.75820...  \n11  POLYGON ((37.77911 -1.77845, 37.77931 -1.77851...  \n12  POLYGON ((37.81291 -1.91578, 37.81321 -1.91585...  \n13  POLYGON ((37.46879 -1.89818, 37.46863 -1.89833...  \n14  POLYGON ((38.02992 -2.16517, 38.03053 -2.16531...  \n15  POLYGON ((38.12395 -2.32007, 38.12505 -2.32102...  \n16  POLYGON ((37.50629 -1.95774, 37.50666 -1.95787...  \n17  POLYGON ((38.14565 -2.32387, 38.14618 -2.32401...  \n18  POLYGON ((38.23390 -2.53316, 38.23548 -2.53385...  \n19  POLYGON ((37.76786 -2.29016, 37.76796 -2.29049...  ",
      "text/html": "<div>\n<style scoped>\n    .dataframe tbody tr th:only-of-type {\n        vertical-align: middle;\n    }\n\n    .dataframe tbody tr th {\n        vertical-align: top;\n    }\n\n    .dataframe thead th {\n        text-align: right;\n    }\n</style>\n<table border=\"1\" class=\"dataframe\">\n  <thead>\n    <tr style=\"text-align: right;\">\n      <th></th>\n      <th>county</th>\n      <th>sub_county</th>\n      <th>ward</th>\n      <th>geometry</th>\n    </tr>\n  </thead>\n  <tbody>\n    <tr>\n      <th>0</th>\n      <td>Makueni</td>\n      <td>Mbooni</td>\n      <td>Tulimani</td>\n      <td>POLYGON ((37.38407 -1.52204, 37.38428 -1.52226...</td>\n    </tr>\n    <tr>\n      <th>1</th>\n      <td>Makueni</td>\n      <td>Mbooni</td>\n      <td>Kiteta-Kisau</td>\n      <td>POLYGON ((37.49057 -1.52000, 37.49078 -1.52015...</td>\n    </tr>\n    <tr>\n      <th>2</th>\n      <td>Makueni</td>\n      <td>Mbooni</td>\n      <td>Waia/Kako</td>\n      <td>POLYGON ((37.60130 -1.56392, 37.60165 -1.56393...</td>\n    </tr>\n    <tr>\n      <th>3</th>\n      <td>Makueni</td>\n      <td>Mbooni</td>\n      <td>Kalawa/ Kathulumbi</td>\n      <td>POLYGON ((37.75782 -1.57146, 37.75805 -1.57184...</td>\n    </tr>\n    <tr>\n      <th>4</th>\n      <td>Makueni</td>\n      <td>Kilome</td>\n      <td>Kasikeu</td>\n      <td>POLYGON ((37.34711 -1.87177, 37.34723 -1.87229...</td>\n    </tr>\n    <tr>\n      <th>5</th>\n      <td>Makueni</td>\n      <td>Kilome</td>\n      <td>Mukaa</td>\n      <td>POLYGON ((37.32817 -1.78039, 37.32821 -1.78064...</td>\n    </tr>\n    <tr>\n      <th>6</th>\n      <td>Makueni</td>\n      <td>Kilome</td>\n      <td>Kiima Kiu/Kalanzoni</td>\n      <td>POLYGON ((37.22865 -1.73701, 37.23275 -1.73807...</td>\n    </tr>\n    <tr>\n      <th>7</th>\n      <td>Makueni</td>\n      <td>Kaiti</td>\n      <td>Kee</td>\n      <td>POLYGON ((37.41677 -1.69116, 37.41706 -1.69120...</td>\n    </tr>\n    <tr>\n      <th>8</th>\n      <td>Makueni</td>\n      <td>Kaiti</td>\n      <td>Kilungu</td>\n      <td>POLYGON ((37.34680 -1.73542, 37.34681 -1.73585...</td>\n    </tr>\n    <tr>\n      <th>9</th>\n      <td>Makueni</td>\n      <td>Kaiti</td>\n      <td>Ilima</td>\n      <td>POLYGON ((37.40887 -1.74417, 37.40911 -1.74428...</td>\n    </tr>\n    <tr>\n      <th>10</th>\n      <td>Makueni</td>\n      <td>Makueni</td>\n      <td>Muvau/Kikumini</td>\n      <td>POLYGON ((37.70050 -1.75816, 37.70084 -1.75820...</td>\n    </tr>\n    <tr>\n      <th>11</th>\n      <td>Makueni</td>\n      <td>Makueni</td>\n      <td>Mavindini</td>\n      <td>POLYGON ((37.77911 -1.77845, 37.77931 -1.77851...</td>\n    </tr>\n    <tr>\n      <th>12</th>\n      <td>Makueni</td>\n      <td>Makueni</td>\n      <td>Kitise/Kithuki</td>\n      <td>POLYGON ((37.81291 -1.91578, 37.81321 -1.91585...</td>\n    </tr>\n    <tr>\n      <th>13</th>\n      <td>Makueni</td>\n      <td>Makueni</td>\n      <td>Mbitini</td>\n      <td>POLYGON ((37.46879 -1.89818, 37.46863 -1.89833...</td>\n    </tr>\n    <tr>\n      <th>14</th>\n      <td>Makueni</td>\n      <td>Kibwezi West</td>\n      <td>Kikumbulyu North</td>\n      <td>POLYGON ((38.02992 -2.16517, 38.03053 -2.16531...</td>\n    </tr>\n    <tr>\n      <th>15</th>\n      <td>Makueni</td>\n      <td>Kibwezi West</td>\n      <td>Kikumbulyu South</td>\n      <td>POLYGON ((38.12395 -2.32007, 38.12505 -2.32102...</td>\n    </tr>\n    <tr>\n      <th>16</th>\n      <td>Makueni</td>\n      <td>Kibwezi West</td>\n      <td>Emali/Mulala</td>\n      <td>POLYGON ((37.50629 -1.95774, 37.50666 -1.95787...</td>\n    </tr>\n    <tr>\n      <th>17</th>\n      <td>Makueni</td>\n      <td>Kibwezi East</td>\n      <td>Masongaleni</td>\n      <td>POLYGON ((38.14565 -2.32387, 38.14618 -2.32401...</td>\n    </tr>\n    <tr>\n      <th>18</th>\n      <td>Makueni</td>\n      <td>Kibwezi East</td>\n      <td>Mtito Andei</td>\n      <td>POLYGON ((38.23390 -2.53316, 38.23548 -2.53385...</td>\n    </tr>\n    <tr>\n      <th>19</th>\n      <td>Makueni</td>\n      <td>Kibwezi East</td>\n      <td>Thange</td>\n      <td>POLYGON ((37.76786 -2.29016, 37.76796 -2.29049...</td>\n    </tr>\n  </tbody>\n</table>\n</div>"
     },
     "execution_count": 3,
     "metadata": {},
     "output_type": "execute_result"
    }
   ],
   "source": [
    "narig_wards = ['Tulimani', 'Kiteta-Kisau', 'Waia/Kako', 'Kalawa/ Kathulumbi',\n",
    " 'Kee', 'Kilungu', 'Ilima',\n",
    " 'Muvau/Kikumini', 'Mavindini', 'Kitise/Kithuki', 'Mbitini',\n",
    " 'Kiima Kiu/Kalanzoni', 'Mukaa', 'Kasikeu',\n",
    " 'Emali/Mulala', 'Kikumbulyu North', 'Kikumbulyu South',\n",
    " 'Thange', 'Masongaleni', 'Mtito Andei']\n",
    "\n",
    "narig_wards = makueni_wards[makueni_wards['ward'].isin(narig_wards)].reset_index(drop=True)\n",
    "\n",
    "narig_wards.to_file('data/processed/geojson/narig_wards.geojson', driver='GeoJSON')\n",
    "\n",
    "narig_wards"
   ],
   "metadata": {
    "collapsed": false,
    "ExecuteTime": {
     "end_time": "2024-01-07T16:36:54.539285100Z",
     "start_time": "2024-01-07T16:36:53.610104800Z"
    }
   },
   "id": "edd1dcf132f4bf0c",
   "execution_count": 3
  },
  {
   "cell_type": "code",
   "outputs": [],
   "source": [
    "# Plot makueni wards using plotly (don't use mapbox)\n",
    "fig = px.choropleth(makueni_wards, geojson=makueni_wards.geometry, locations=makueni_wards.index, color='ward', color_discrete_sequence=px.colors.qualitative.Pastel, projection='mercator', labels={'sub_county':'Sub County', 'ward':'Ward'})\n",
    "fig.update_geos(fitbounds='locations', visible=False)\n",
    "fig.show()"
   ],
   "metadata": {
    "collapsed": false,
    "is_executing": true,
    "ExecuteTime": {
     "start_time": "2024-01-07T16:36:54.533160400Z"
    }
   },
   "id": "ffe8f23054f972a3",
   "execution_count": null
  }
 ],
 "metadata": {
  "kernelspec": {
   "display_name": "Python 3",
   "language": "python",
   "name": "python3"
  },
  "language_info": {
   "codemirror_mode": {
    "name": "ipython",
    "version": 2
   },
   "file_extension": ".py",
   "mimetype": "text/x-python",
   "name": "python",
   "nbconvert_exporter": "python",
   "pygments_lexer": "ipython2",
   "version": "2.7.6"
  }
 },
 "nbformat": 4,
 "nbformat_minor": 5
}
