{
 "cells": [
  {
   "cell_type": "code",
   "outputs": [],
   "source": [
    "# Import libraries and modules\n",
    "from src import *"
   ],
   "metadata": {
    "collapsed": false,
    "ExecuteTime": {
     "end_time": "2024-01-13T03:29:38.998363600Z",
     "start_time": "2024-01-13T03:29:38.965013800Z"
    }
   },
   "id": "1547ab91c5cc2a43",
   "execution_count": 3
  },
  {
   "cell_type": "code",
   "outputs": [],
   "source": [
    "# Import geometries\n",
    "kenya = gpd.read_file('./data/processed/geojson/kenya.geojson')\n",
    "counties = gpd.read_file('./data/processed/geojson/kenya_counties.geojson')\n",
    "sub_counties = gpd.read_file('./data/processed/geojson/kenya_sub_counties.geojson')\n",
    "wards = gpd.read_file('./data/processed/geojson/kenya_wards.geojson')\n",
    "narig_wards = gpd.read_file('./data/processed/geojson/narig_wards.geojson')\n",
    "\n",
    "kenya.crs = counties.crs = sub_counties.crs = wards.crs = narig_wards.crs = 'EPSG:4326'\n",
    "\n",
    "makueni_county = counties[counties['county'] == 'Makueni']\n",
    "makueni_sub_counties = sub_counties[sub_counties['county'] == 'Makueni']\n",
    "makueni_wards = wards[wards['county'] == 'Makueni']"
   ],
   "metadata": {
    "collapsed": false,
    "ExecuteTime": {
     "end_time": "2024-01-13T03:30:08.141330Z",
     "start_time": "2024-01-13T03:29:39.004866800Z"
    }
   },
   "id": "cbd9ee01d77f66b8",
   "execution_count": 4
  },
  {
   "cell_type": "code",
   "outputs": [
    {
     "name": "stdout",
     "output_type": "stream",
     "text": [
      "{'ward': 'Ward', 'gender': 'Gender', 'age': 'Age in years', 'education': 'Education', 'monthly_income': 'level of income per month in Kshs.', 'household_size': 'Household size', 'family_head': 'I am the head of family', 'value_chain': 'Value Chain', 'vc_experience': 'Experience in value chain in years', 'project_skepticism': 'I am skeptical about the success of the project due to past experience with other donor funded projects.', 'adequate_consultation': 'There was adequate consultation at the project inception making me feel part of the project', 'project_acceptance': 'I have fully embraced the project', 'satisfactory_training': 'I am happy with the approach to farmer training adopted by the project', 'project_success_optimism': 'I feel the project has good chances of success', 'project_benefits': 'I believe the project will be beneficial to me', 'sustainable_skills': 'The skills learned  acquired through this project will ensure its sustainability.', 'sustainable_technology': 'The  technology acquired through this project will ensure its sustainability.', 'project_understanding': 'I understand the NARIG project objectives', 'vc_understanding': 'I understand my value chain generally', 'vc_agriculture_practices_awareness': 'I understand the good agricultural practices in my value chain', 'vc_technology_awareness': 'I understand the modern production technologies in my value chain', 'vc_product_marketing_understanding': 'I have knowledge in product marketing in my value chain', 'practice_mixed_farming': 'I practice mixed farming system', 'practice_large_scale_farming': 'I operated large scale farming of my value chain before the project', 'use_extension_services': 'I seek and utilise extension services', 'use_credit_farming': 'I seek and utilise credit for my farming enterprise', 'full_time_farming': 'I am a full time farmer', 'acreage_before': 'What is the acreage of ${q7} before project', 'acreage_after': 'What is the acreage  of ${q7}  after project', 'yield_before': 'What is the production of ${q7} per acre before project in kgs', 'yield_after': 'What is the production of ${q7} per acre after project in kgs', 'price_before': 'What is the price per kg of ${q7} before project', 'price_after': 'What is the price per kg of ${q7} after project', 'annual_income_before': 'Income earned per year from ${q7} before project', 'annual_income_after': 'Income earned  from ${q7}  after project', 'jobs_created_before': 'Creation of jobs  from ${q7}  before project', 'jobs_created_after': 'Creation of jobs  from ${q7}  after project', 'trained_certified_seed': 'I have been trained on certified seed/Seed system', 'adopted_certified_seed': 'I have adopted on certified seed/Seed system', 'trained_improved_varieties': 'I have been trained on improved varieties', 'adopted_improved_varieties': 'I have adopted improved varieties', 'trained_pest_management': 'I have been trained on Integrated pest and disease management', 'adopted_pest_management': 'I have adopted Integrated pest and disease management', 'trained_agronomic_practices': 'I have been trained on Agronomic practices', 'adopted_agronomic_practices': 'I have adopted Agronomic practices', 'trained_soil_fertility': 'I have been trained on Soil fertility management', 'adopted_soil_fertility': 'I have adopted Soil fertility management', 'trained_soil_moisture': 'I have been trained on soil moisture conservation', 'adopted_soil_moisture': 'I have adopted soil moisture conservation', 'trained_post_harvest': 'I have been trained on Post-harvest handling', 'adopted_post_harvest': 'I have adopted Post-harvest handling', 'trained_value_addition': 'I have been trained on Value addition', 'adopted_value_addition': 'I have adopted Value addition', 'trees_per_acre_before': 'What is the number of trees per acre of ${q7} before project', 'trees_per_acre_after': 'What is the number of trees per acre of ${q7}  after project', 'total_trees_before': 'What was the total number of trees of ${q7} before the project', 'total_trees_after': 'What is the current total number of trees of ${q7}', 'production_per_tree_before': 'What is the production of ${q7} per tree before project in pieces', 'production_per_tree_after': 'What is the current production of ${q7} per tree in pieces', 'price_before_1': 'What is the price per kg of ${q7} before project.1', 'price_after_1': 'What is the price per kg of ${q7} after project.1', 'annual_income_before_1': 'Income earned per year from ${q7} before project.1', 'annual_income_after_1': 'Income earned  from ${q7}  after project.1', 'jobs_created_before_1': 'Creation of jobs  from ${q7}  before project.1', 'jobs_created_after_1': 'Creation of jobs  from ${q7}  after project.1', 'trained_certified_seed_1': 'I have been trained on certified seed/Seed system.1', 'adopted_certified_seed_1': 'I have adopted on certified seed/Seed system.1', 'trained_improved_varieties_1': 'I have been trained on improved varieties.1', 'adopted_improved_varieties_1': 'I have adopted improved varieties.1', 'trained_pest_management_1': 'I have been trained on Integrated pest and disease management.1', 'adopted_pest_management_1': 'I have adopted Integrated pest and disease management.1', 'trained_agronomic_practices_1': 'I have been trained on Agronomic practices.1', 'adopted_agronomic_practices_1': 'I have adopted Agronomic practices.1', 'trained_soil_fertility_1': 'I have been trained on Soil fertility management.1', 'adopted_soil_fertility_1': 'I have adopted Soil fertility management.1', 'trained_soil_moisture_1': 'I have been trained on soil moisture conservation.1', 'adopted_soil_moisture_1': 'I have adopted soil moisture conservation.1', 'trained_post_harvest_1': 'I have been trained on Post-harvest handling.1', 'adopted_post_harvest_1': 'I have adopted Post-harvest handling.1', 'trained_value_addition_1': 'I have been trained on Value addition.1', 'adopted_value_addition_1': 'I have adopted Value addition.1', 'acreage_before_1': 'What is the acreage of ${q7} before project.1', 'acreage_after_1': 'What is the acreage of ${q7}  after project', 'yield_before_1': 'What is the production of ${q7} per acre before project in kgs.1', 'yield_after_1': 'What is the current production of ${q7} per acre in kgs', 'price_before_2': 'What is the price per kg of ${q7} before project.2', 'price_after_2': 'What is the current price per kg of ${q7}', 'annual_income_before_2': 'Income earned per year from ${q7} before project.2', 'annual_income_after_2': 'Current income earned  from ${q7}', 'jobs_created_before_2': 'Creation of jobs  from ${q7}  before project.2', 'jobs_created_after_2': 'Current creation of jobs  from ${q7}', 'trained_certified_seed_2': 'I have been trained on certified seed/Seed system.2', 'adopted_certified_seed_2': 'I have adopted on certified seed/Seed system.2', 'trained_improved_varieties_2': 'I have been trained on improved varieties.2', 'adopted_improved_varieties_2': 'I have adopted improved varieties.2', 'trained_pest_management_2': 'I have been trained on Integrated pest and disease management.2', 'adopted_pest_management_2': 'I have adopted Integrated pest and disease management.2', 'trained_agronomic_practices_2': 'I have been trained on Agronomic practices.2', 'adopted_agronomic_practices_2': 'I have adopted Agronomic practices.2', 'trained_soil_fertility_2': 'I have been trained on Soil fertility management.2', 'adopted_soil_fertility_2': 'I have adopted Soil fertility management.2', 'trained_soil_moisture_2': 'I have been trained on soil moisture conservation.2', 'adopted_soil_moisture_2': 'I have adopted soil moisture conservation.2', 'trained_post_harvest_2': 'I have been trained on Post-harvest handling.2', 'adopted_post_harvest_2': 'I have been adopted Post-harvest handling', 'trained_value_addition_2': 'I have been trained on Value addition.2', 'adopted_value_addition_2': 'I have adopted Value addition.2', 'average_flock_size_before': 'What was the average number of ${q7} before project', 'average_flock_size_after': 'What is the current average of ${q7}', 'annual_production_cycles_before': 'What was the number of production cycles per year of ${q7}  before project', 'annual_production_cycles_after': 'What is the current number of production cycle  of ${q7}', 'price_before_3': 'What was the price  of ${q7} before project', 'price_after_3': 'What is the current price of ${q7}', 'annual_income_before_3': 'Income earned per year from ${q7} before project.3', 'annual_income_after_3': 'Current Income per year earned  from ${q7}', 'jobs_created_before_3': 'How many people had you employed for  ${q7}  before project', 'jobs_created_after_3': 'How many people have you employed currently for   ${q7}', 'trained_improved_varieties_3': 'I have been trained on new improved breeds', 'adopted_improved_varieties_3': 'I have adopted New improved breeds', 'trained_poultry_housing': 'I have been trained on Poultry housing', 'adopted_poultry_housing': 'I have adopted Poultry housing', 'trained_feeds_production': 'I have been trained on poultry feeds production', 'adopted_feeds_production': 'I have adopted poultry feeds production', 'trained_feeds_management': 'I have been trained on use of feeding and watering equipment', 'adopted_feeds_management': 'I have adopted the use of feeding and watering equipment', 'trained_hatchery_management': 'I have been trained on hatching and brooding management', 'adopted_hatchery_management': 'I have adopted hatching and brooding management', 'trained_vaccination': 'I have been trained on Vaccination', 'adopted_vaccination': 'I have adopted Vaccination', 'trained_hygiene_management': 'I have been trained on Manure /Hygiene management', 'adopted_hygiene_management': 'I have adopted Manure /Hygiene management', 'enterprise_profitability_increase': 'Enterprise profitability has increased since inception of the project', 'farm_productivity_increase': 'Farm productivity of farms has increased since inception of NARIGP project', 'timely_implementation': 'The implementation of the NARIGP project has been timely', 'new_income_streams': 'NARIGP project has given me new sources of income', 'job_creation_increase': 'NARIGP project has led to employment creation', 'project_inclusivity': 'Socially excluded groups have been incorporated into the project'}\n"
     ]
    }
   ],
   "source": [
    "# Import data\n",
    "survey = pd.read_excel('./data/raw/NARIG_Survey.xlsx', usecols='A:EG')\n",
    "column_names = pd.read_json('./data/processed/json/column_names.json', typ='series')"
   ],
   "metadata": {
    "collapsed": false,
    "ExecuteTime": {
     "end_time": "2024-01-13T03:37:56.959769400Z",
     "start_time": "2024-01-13T03:37:56.562048100Z"
    }
   },
   "id": "f7b30fef40e5aa9",
   "execution_count": 10
  },
  {
   "cell_type": "code",
   "outputs": [
    {
     "name": "stdout",
     "output_type": "stream",
     "text": [
      "a\n",
      "a\n",
      "a a\n",
      "b b\n",
      "c c\n"
     ]
    }
   ],
   "source": [
    "print('a.1'.rsplit('.', 1)[0])\n",
    "print('a_1'.rsplit('_', 1)[0])\n",
    "\n",
    "dict = {'a.1': 'a_1', 'b.2': 'b_2', 'c.3': 'c_3'}\n",
    "\n",
    "for key, value in dict.items():\n",
    "    print(value.rsplit('_', 1)[0], key.rsplit('.', 1)[0])"
   ],
   "metadata": {
    "collapsed": false,
    "ExecuteTime": {
     "end_time": "2024-01-13T08:52:47.114480400Z",
     "start_time": "2024-01-13T08:52:47.106989200Z"
    }
   },
   "id": "ce8c26bbe3827471",
   "execution_count": 23
  },
  {
   "cell_type": "code",
   "outputs": [
    {
     "data": {
      "text/plain": "{'ward': 'Ward',\n 'gender': 'Gender',\n 'age': 'Age in years',\n 'education': 'Education',\n 'monthly': 'level of income per month in Kshs',\n 'household': 'Household size',\n 'family': 'I am the head of family',\n 'value': 'Value Chain',\n 'vc': 'I understand my value chain generally',\n 'project': 'Socially excluded groups have been incorporated into the project',\n 'adequate': 'There was adequate consultation at the project inception making me feel part of the project',\n 'satisfactory': 'I am happy with the approach to farmer training adopted by the project',\n 'project_success': 'I feel the project has good chances of success',\n 'sustainable': 'The  technology acquired through this project will ensure its sustainability',\n 'vc_agriculture_practices': 'I understand the good agricultural practices in my value chain',\n 'vc_technology': 'I understand the modern production technologies in my value chain',\n 'vc_product_marketing': 'I have knowledge in product marketing in my value chain',\n 'practice_mixed': 'I practice mixed farming system',\n 'practice_large_scale': 'I operated large scale farming of my value chain before the project',\n 'use_extension': 'I seek and utilise extension services',\n 'use_credit': 'I seek and utilise credit for my farming enterprise',\n 'full_time': 'I am a full time farmer',\n 'acreage': 'What is the acreage  of ${q7}  after project',\n 'yield': 'What is the production of ${q7} per acre after project in kgs',\n 'price': 'What is the price per kg of ${q7} after project',\n 'annual_income': 'Income earned  from ${q7}  after project',\n 'jobs_created': 'Creation of jobs  from ${q7}  after project',\n 'trained_certified': 'I have been trained on certified seed/Seed system',\n 'adopted_certified': 'I have adopted on certified seed/Seed system',\n 'trained_improved': 'I have been trained on improved varieties',\n 'adopted_improved': 'I have adopted improved varieties',\n 'trained_pest': 'I have been trained on Integrated pest and disease management',\n 'adopted_pest': 'I have adopted Integrated pest and disease management',\n 'trained_agronomic': 'I have been trained on Agronomic practices',\n 'adopted_agronomic': 'I have adopted Agronomic practices',\n 'trained_soil': 'I have been trained on soil moisture conservation',\n 'adopted_soil': 'I have adopted soil moisture conservation',\n 'trained_post': 'I have been trained on Post-harvest handling',\n 'adopted_post': 'I have adopted Post-harvest handling',\n 'trained_value': 'I have been trained on Value addition',\n 'adopted_value': 'I have adopted Value addition',\n 'trees_per_acre': 'What is the number of trees per acre of ${q7}  after project',\n 'total_trees': 'What is the current total number of trees of ${q7}',\n 'production_per_tree': 'What is the current production of ${q7} per tree in pieces',\n 'price_before': 'What was the price  of ${q7} before project',\n 'price_after': 'What is the current price of ${q7}',\n 'annual_income_before': 'Income earned per year from ${q7} before project',\n 'annual_income_after': 'Current Income per year earned  from ${q7}',\n 'jobs_created_before': 'How many people had you employed for  ${q7}  before project',\n 'jobs_created_after': 'How many people have you employed currently for   ${q7}',\n 'trained_certified_seed': 'I have been trained on certified seed/Seed system',\n 'adopted_certified_seed': 'I have adopted on certified seed/Seed system',\n 'trained_improved_varieties': 'I have been trained on new improved breeds',\n 'adopted_improved_varieties': 'I have adopted New improved breeds',\n 'trained_pest_management': 'I have been trained on Integrated pest and disease management',\n 'adopted_pest_management': 'I have adopted Integrated pest and disease management',\n 'trained_agronomic_practices': 'I have been trained on Agronomic practices',\n 'adopted_agronomic_practices': 'I have adopted Agronomic practices',\n 'trained_soil_fertility': 'I have been trained on Soil fertility management',\n 'adopted_soil_fertility': 'I have adopted Soil fertility management',\n 'trained_soil_moisture': 'I have been trained on soil moisture conservation',\n 'adopted_soil_moisture': 'I have adopted soil moisture conservation',\n 'trained_post_harvest': 'I have been trained on Post-harvest handling',\n 'adopted_post_harvest': 'I have been adopted Post-harvest handling',\n 'trained_value_addition': 'I have been trained on Value addition',\n 'adopted_value_addition': 'I have adopted Value addition',\n 'acreage_before': 'What is the acreage of ${q7} before project',\n 'acreage_after': 'What is the acreage of ${q7}  after project',\n 'yield_before': 'What is the production of ${q7} per acre before project in kgs',\n 'yield_after': 'What is the current production of ${q7} per acre in kgs',\n 'average_flock_size': 'What is the current average of ${q7}',\n 'annual_production_cycles': 'What is the current number of production cycle  of ${q7}',\n 'trained_poultry': 'I have been trained on Poultry housing',\n 'adopted_poultry': 'I have adopted Poultry housing',\n 'trained_feeds': 'I have been trained on use of feeding and watering equipment',\n 'adopted_feeds': 'I have adopted the use of feeding and watering equipment',\n 'trained_hatchery': 'I have been trained on hatching and brooding management',\n 'adopted_hatchery': 'I have adopted hatching and brooding management',\n 'trained': 'I have been trained on Vaccination',\n 'adopted': 'I have adopted Vaccination',\n 'trained_hygiene': 'I have been trained on Manure /Hygiene management',\n 'adopted_hygiene': 'I have adopted Manure /Hygiene management',\n 'enterprise_profitability': 'Enterprise profitability has increased since inception of the project',\n 'farm_productivity': 'Farm productivity of farms has increased since inception of NARIGP project',\n 'timely': 'The implementation of the NARIGP project has been timely',\n 'new_income': 'NARIGP project has given me new sources of income',\n 'job_creation': 'NARIGP project has led to employment creation'}"
     },
     "execution_count": 24,
     "metadata": {},
     "output_type": "execute_result"
    }
   ],
   "source": [
    "ticd = {v.rsplit('_', 1)[0]: k.rsplit('.', 1)[0] for k, v in column_names.items()}\n",
    "\n",
    "ticd"
   ],
   "metadata": {
    "collapsed": false,
    "ExecuteTime": {
     "end_time": "2024-01-13T10:25:17.335637Z",
     "start_time": "2024-01-13T10:25:17.329517Z"
    }
   },
   "id": "9c7584180d4437db",
   "execution_count": 24
  }
 ],
 "metadata": {
  "kernelspec": {
   "display_name": "Python 3",
   "language": "python",
   "name": "python3"
  },
  "language_info": {
   "codemirror_mode": {
    "name": "ipython",
    "version": 2
   },
   "file_extension": ".py",
   "mimetype": "text/x-python",
   "name": "python",
   "nbconvert_exporter": "python",
   "pygments_lexer": "ipython2",
   "version": "2.7.6"
  }
 },
 "nbformat": 4,
 "nbformat_minor": 5
}
