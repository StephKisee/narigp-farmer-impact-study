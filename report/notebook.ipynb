{
 "cells": [
  {
   "source": [
    "# Practical Exam Solution\n",
    "---\n",
    "Kisee S. Musau"
   ],
   "metadata": {
    "id": "bA5ajAmk7XH6",
    "collapsed": false
   },
   "id": "small-resistance",
   "cell_type": "markdown"
  },
  {
   "source": [
    "## Data Validation\n",
    "This data set has 6738 rows, 9 columns. I have validated all variables and I have not made any changes after validation. All the columns are just as described in the data dictionary:\n",
    "- model: 18 models without missing values, same as the description. No cleaning is needed.\n",
    "- year: 23 unique values without missing values, from 1998 to 2020, same as the description. No cleaning is needed.\n",
    "- price: numeric values without missing values, same as the description. No cleaning is needed.\n",
    "- transmission: 4 categories without missing values, same as the description. No cleaning is needed.\n",
    "- mileage: numeric values, same as the description. No cleaning is needed.\n",
    "- fuelType: 4 categories without missing values, same as the description. No cleaning is needed.\n",
    "- mpg: numeric values without missing values, same as the description. No cleaning is needed.\n",
    "- engineSize: 16 possible values without missing values, same as the description. No cleaning is needed.\n"
   ],
   "metadata": {},
   "id": "04d7b042-e2fe-4fd1-8891-9c2205a2da3a",
   "cell_type": "markdown"
  },
  {
   "source": [
    "import pandas as pd\n",
    "import numpy as np\n",
    "import matplotlib.pyplot as plt\n",
    "import matplotlib.style as style\n",
    "import seaborn as sns\n",
    "from sklearn.model_selection import train_test_split\n",
    "from sklearn.linear_model import LinearRegression\n",
    "from sklearn.tree import DecisionTreeRegressor\n",
    "from sklearn.preprocessing import LabelEncoder\n",
    "from sklearn.preprocessing import PowerTransformer\n",
    "from sklearn.metrics import r2_score,mean_squared_error\n",
    "plt.style.use('ggplot')"
   ],
   "metadata": {
    "scrolled": true,
    "executionTime": 50,
    "lastSuccessfullyExecutedCode": "# Use this cell to begin, and add as many cells as you need to complete your analysis!\nimport pandas as pd\nimport numpy as np\nimport matplotlib.pyplot as plt\nimport matplotlib.style as style\nimport seaborn as sns\nfrom sklearn.model_selection import train_test_split\nfrom sklearn.linear_model import LinearRegression\nfrom sklearn.tree import DecisionTreeRegressor\nfrom sklearn.preprocessing import LabelEncoder\nfrom sklearn.preprocessing import PowerTransformer\nfrom sklearn.metrics import r2_score,mean_squared_error\nplt.style.use('ggplot')",
    "executionCancelledAt": null,
    "lastExecutedAt": 1685735991710,
    "lastScheduledRunId": null,
    "collapsed": false,
    "jupyter": {
     "source_hidden": true
    },
    "ExecuteTime": {
     "end_time": "2024-01-22T08:41:10.686509200Z",
     "start_time": "2024-01-22T08:41:10.677996800Z"
    }
   },
   "id": "sensitive-excess",
   "cell_type": "code",
   "execution_count": 3,
   "outputs": []
  },
  {
   "source": [
    "df = pd.read_csv('data/toyota.csv')\n",
    "df.info()"
   ],
   "metadata": {
    "executionTime": 48,
    "lastSuccessfullyExecutedCode": "df = pd.read_csv('data/toyota.csv')\ndf.info()",
    "executionCancelledAt": null,
    "lastExecutedAt": 1685735991759,
    "lastScheduledRunId": null,
    "collapsed": true,
    "jupyter": {
     "outputs_hidden": true,
     "source_hidden": true
    },
    "ExecuteTime": {
     "start_time": "2024-01-22T08:38:24.502453800Z"
    }
   },
   "id": "8eaf958f-f27c-48af-9aef-8871e5acfae6",
   "cell_type": "code",
   "execution_count": null,
   "outputs": []
  },
  {
   "source": [
    "df.head()"
   ],
   "metadata": {
    "executionTime": 48,
    "lastSuccessfullyExecutedCode": "df.head()",
    "executionCancelledAt": null,
    "lastExecutedAt": 1685735991807,
    "lastScheduledRunId": null,
    "collapsed": true,
    "jupyter": {
     "outputs_hidden": true,
     "source_hidden": true
    },
    "ExecuteTime": {
     "start_time": "2024-01-22T08:38:24.505461500Z"
    }
   },
   "id": "4085d3fb-b8d4-4231-9df5-3b50189815f9",
   "cell_type": "code",
   "execution_count": null,
   "outputs": []
  },
  {
   "source": [
    "#validate possible 18 values\n",
    "df['model'].nunique()"
   ],
   "metadata": {
    "executionTime": 47,
    "lastSuccessfullyExecutedCode": "#validate possible 18 values\ndf['model'].nunique()",
    "executionCancelledAt": null,
    "lastExecutedAt": 1685735991854,
    "lastScheduledRunId": null,
    "collapsed": true,
    "jupyter": {
     "outputs_hidden": true,
     "source_hidden": true
    },
    "ExecuteTime": {
     "start_time": "2024-01-22T08:38:24.509462500Z"
    }
   },
   "id": "2fd9431c-3f0e-4c86-bc86-7cfe5fefe64d",
   "cell_type": "code",
   "execution_count": null,
   "outputs": []
  },
  {
   "source": [
    "#validate year of manufacture from 1998 to 2020\n",
    "df['year'].unique()"
   ],
   "metadata": {
    "executionTime": 48,
    "lastSuccessfullyExecutedCode": "#validate year of manufacture from 1998 to 2020\ndf['year'].unique()",
    "executionCancelledAt": null,
    "lastExecutedAt": 1685735991903,
    "lastScheduledRunId": null,
    "collapsed": true,
    "jupyter": {
     "outputs_hidden": true,
     "source_hidden": true
    },
    "ExecuteTime": {
     "start_time": "2024-01-22T08:38:24.513461900Z"
    }
   },
   "id": "67f6384b-b14b-4e2d-92ca-a192c09d9538",
   "cell_type": "code",
   "execution_count": null,
   "outputs": []
  },
  {
   "source": [
    "#validate four types of transmission\n",
    "df['transmission'].unique()"
   ],
   "metadata": {
    "executionTime": 48,
    "lastSuccessfullyExecutedCode": "#validate four types of transmission\ndf['transmission'].unique()",
    "executionCancelledAt": null,
    "lastExecutedAt": 1685735991951,
    "lastScheduledRunId": null,
    "collapsed": true,
    "jupyter": {
     "outputs_hidden": true,
     "source_hidden": true
    },
    "ExecuteTime": {
     "start_time": "2024-01-22T08:38:24.516462700Z"
    }
   },
   "id": "70b3eae4-5c15-4bab-abe8-5bb46ea4b443",
   "cell_type": "code",
   "execution_count": null,
   "outputs": []
  },
  {
   "source": [
    "#validate four fuel Types\n",
    "df['fuelType'].unique()"
   ],
   "metadata": {
    "executionTime": 51,
    "lastSuccessfullyExecutedCode": "#validate four fuel Types\ndf['fuelType'].unique()",
    "executionCancelledAt": null,
    "lastExecutedAt": 1685735992002,
    "lastScheduledRunId": null,
    "collapsed": true,
    "jupyter": {
     "outputs_hidden": true,
     "source_hidden": true
    },
    "ExecuteTime": {
     "start_time": "2024-01-22T08:38:24.519643500Z"
    }
   },
   "id": "dd3a4721-0e50-4816-9445-c4ea52126fe2",
   "cell_type": "code",
   "execution_count": null,
   "outputs": []
  },
  {
   "source": [
    "#validate 16 possible values in engineSize\n",
    "df['engineSize'].nunique()"
   ],
   "metadata": {
    "executionTime": 47,
    "lastSuccessfullyExecutedCode": "#validate 16 possible values in engineSize\ndf['engineSize'].nunique()",
    "executionCancelledAt": null,
    "lastExecutedAt": 1685735992050,
    "lastScheduledRunId": null,
    "collapsed": true,
    "jupyter": {
     "outputs_hidden": true,
     "source_hidden": true
    },
    "ExecuteTime": {
     "start_time": "2024-01-22T08:38:24.522644300Z"
    }
   },
   "id": "28b63d57-dd58-4e1a-a15c-36beae45a469",
   "cell_type": "code",
   "execution_count": null,
   "outputs": []
  },
  {
   "source": [
    "#validate any negative values in numeric variables\n",
    "df.describe()"
   ],
   "metadata": {
    "executionTime": 48,
    "lastSuccessfullyExecutedCode": "#validate any negative values in numeric variables\ndf.describe()",
    "executionCancelledAt": null,
    "lastExecutedAt": 1685735992099,
    "lastScheduledRunId": null,
    "collapsed": true,
    "jupyter": {
     "outputs_hidden": true,
     "source_hidden": true
    },
    "ExecuteTime": {
     "start_time": "2024-01-22T08:38:24.525643300Z"
    }
   },
   "id": "ef4b3a9f-0e7e-4767-8aa0-2fa0bf69bea7",
   "cell_type": "code",
   "execution_count": null,
   "outputs": []
  },
  {
   "source": [
    "## Exploratory Analysis\n",
    "I have investigated the target variable and features of the car, and the relationship between target variable and features. After the analysis,I decided to apply the following changes to enable modeling:\n",
    "- Price: use log transformation\n",
    "- Create a new ordinal variable from tax variable"
   ],
   "metadata": {},
   "id": "e1e599f2-5cb2-487b-a416-f5ed9c48353a",
   "cell_type": "markdown"
  },
  {
   "source": [
    "### Target Variable - Price\n",
    "\n",
    "Since we need to predict the price, the price variable would be our target variable. From the histogram on the left below, we can see there is a longer right tail. Therefore, we apply log transforamtion of the price variable, the distribution on the right below is close to normal distribution."
   ],
   "metadata": {},
   "id": "05f6a3cd-738d-4678-82c2-d5300cdece1d",
   "cell_type": "markdown"
  },
  {
   "source": [
    "fig, axes = plt.subplots(1,2,figsize=(15,5))\n",
    "sns.histplot(df['price'],color='gray', ax=axes[0]).set(title='The Distribution of Target Variable - Price')\n",
    "sns.histplot(df['price'],log_scale=True,color='gray', ax=axes[1]).set(title='The Distribution of Target Variable - Price (Log Scale)');"
   ],
   "metadata": {
    "executionTime": 574,
    "lastSuccessfullyExecutedCode": "fig, axes = plt.subplots(1,2,figsize=(15,5))\nsns.histplot(df['price'],color='gray', ax=axes[0]).set(title='The Distribution of Target Variable - Price')\nsns.histplot(df['price'],log_scale=True,color='gray', ax=axes[1]).set(title='The Distribution of Target Variable - Price (Log Scale)');",
    "executionCancelledAt": null,
    "lastExecutedAt": 1685735992673,
    "lastScheduledRunId": null,
    "collapsed": false,
    "jupyter": {
     "source_hidden": true
    },
    "ExecuteTime": {
     "start_time": "2024-01-22T08:38:24.528643200Z"
    }
   },
   "id": "589e0dcd-3c26-4cdc-8ace-2f2f3afb9122",
   "cell_type": "code",
   "execution_count": null,
   "outputs": []
  },
  {
   "source": [
    "### Numeric Variables - Mileage, Tax, mpg\n",
    "\n",
    "From the heatmap below, we can conclude that there is a moderate linear negative relationship in two pairs of variables - price log transformation and mileage, tax and mpg."
   ],
   "metadata": {},
   "id": "21ed7eda-ffe3-431b-b7a7-ac2d29705fef",
   "cell_type": "markdown"
  },
  {
   "source": [
    "numeric = df[['price','mileage','tax','mpg']]\n",
    "sns.heatmap(numeric.corr(),annot=True).set(title='The Correlation Heatmap between Numeric Variables');"
   ],
   "metadata": {
    "executionTime": 212,
    "lastSuccessfullyExecutedCode": "numeric = df[['price','mileage','tax','mpg']]\nsns.heatmap(numeric.corr(),annot=True).set(title='The Correlation Heatmap between Numeric Variables');",
    "executionCancelledAt": null,
    "lastExecutedAt": 1685735992885,
    "lastScheduledRunId": null,
    "collapsed": false,
    "jupyter": {
     "source_hidden": true
    },
    "ExecuteTime": {
     "start_time": "2024-01-22T08:38:24.531638500Z"
    }
   },
   "id": "87ccb750-bcb5-4e5f-a617-58913611f3e4",
   "cell_type": "code",
   "execution_count": null,
   "outputs": []
  },
  {
   "source": [
    "#### Relationship between mpg, tax, mileage and price\n",
    "To spot the non-linear relationship, I decided to make scatterplot to further investigate the relationship between mpg, tax, mileage and our target varible - price. From the scatterplots below, there is linear relationship between mileage and price. No relationship between price and mpg. I found out there is clusters in the scatterplot between price and tax, so I decided to create a new ordinal variable from the tax variable."
   ],
   "metadata": {},
   "id": "5c4c3018-3136-4cd5-8f96-42862cee1f2e",
   "cell_type": "markdown"
  },
  {
   "source": [
    "fig, axes = plt.subplots(1,3,figsize=(15,5))\n",
    "sns.scatterplot(y=df['price'],x=df['mpg'],color='gray',ax=axes[0]).set(title='Price vs mpg')\n",
    "sns.scatterplot(y=df['price'],x=df['tax'],color='gray',ax=axes[1]).set(title='Price vs tax')\n",
    "sns.scatterplot(y=df['price'],x=df['mileage'],color='gray',ax=axes[2]).set(title='Price vs Mileage');"
   ],
   "metadata": {
    "executionTime": 522,
    "lastSuccessfullyExecutedCode": "fig, axes = plt.subplots(1,3,figsize=(15,5))\nsns.scatterplot(y=df['price'],x=df['mpg'],color='gray',ax=axes[0]).set(title='Price vs mpg')\nsns.scatterplot(y=df['price'],x=df['tax'],color='gray',ax=axes[1]).set(title='Price vs tax')\nsns.scatterplot(y=df['price'],x=df['mileage'],color='gray',ax=axes[2]).set(title='Price vs Mileage');",
    "executionCancelledAt": null,
    "lastExecutedAt": 1685735993407,
    "lastScheduledRunId": null,
    "collapsed": false,
    "jupyter": {
     "source_hidden": true
    },
    "ExecuteTime": {
     "start_time": "2024-01-22T08:38:24.533639100Z"
    }
   },
   "id": "81b4da6b-47a9-4d16-952f-ba00a9363070",
   "cell_type": "code",
   "execution_count": null,
   "outputs": []
  },
  {
   "source": [
    "# Convert tax variable into an ordinal variable  \n",
    "df.loc[(df['tax'] <= 100,'tax')] = 1\n",
    "df.loc[((df['tax'] <= 200) & (df['tax'] > 100) ,'tax')] = 2\n",
    "df.loc[((df['tax'] <= 300) & (df['tax'] > 200) ,'tax')] = 3\n",
    "df.loc[(df['tax'] > 300 ,'tax')] = 4"
   ],
   "metadata": {
    "executionTime": 51,
    "lastSuccessfullyExecutedCode": "# Convert tax variable into an ordinal variable  \ndf.loc[(df['tax'] <= 100,'tax')] = 1\ndf.loc[((df['tax'] <= 200) & (df['tax'] > 100) ,'tax')] = 2\ndf.loc[((df['tax'] <= 300) & (df['tax'] > 200) ,'tax')] = 3\ndf.loc[(df['tax'] > 300 ,'tax')] = 4",
    "executionCancelledAt": null,
    "lastExecutedAt": 1685735993458,
    "lastScheduledRunId": null,
    "collapsed": false,
    "jupyter": {
     "source_hidden": true
    },
    "ExecuteTime": {
     "start_time": "2024-01-22T08:38:24.535638700Z"
    }
   },
   "id": "b4cb6de8-d94d-4750-b80d-ed1bed7d98f7",
   "cell_type": "code",
   "execution_count": null,
   "outputs": []
  },
  {
   "source": [
    "### Categorical Variables - Year, Engine Size, Model, Transmission, fuelType\n",
    "#### Characteristics about Year, Engine size, Model, Transmission, and fuelType\n",
    "Since year and engine size is most related to price, I checked their characteristics. From the bar chart below, the most common manufacture year is 2016. Also, the most common engine size in is 1."
   ],
   "metadata": {},
   "id": "0abfe008-252c-489a-9b73-97869ed44042",
   "cell_type": "markdown"
  },
  {
   "source": [
    "fig, axes = plt.subplots(1,2,figsize=(15,5))\n",
    "sns.countplot(x=df['year'], color='gray',ax=axes[0]).set(title='Count of Cars Sold in Manufacture Year')\n",
    "sns.countplot(x=df['engineSize'],color='gray',ax=axes[1]).set(title='Count of Cars Sold in EngineSize')\n",
    "axes[0].tick_params(axis='x', labelrotation=45)\n",
    "axes[1].tick_params(axis='x', labelrotation=45);"
   ],
   "metadata": {
    "executionTime": 466,
    "lastSuccessfullyExecutedCode": "fig, axes = plt.subplots(1,2,figsize=(15,5))\nsns.countplot(x=df['year'], color='gray',ax=axes[0]).set(title='Count of Cars Sold in Manufacture Year')\nsns.countplot(x=df['engineSize'],color='gray',ax=axes[1]).set(title='Count of Cars Sold in EngineSize')\naxes[0].tick_params(axis='x', labelrotation=45)\naxes[1].tick_params(axis='x', labelrotation=45);",
    "executionCancelledAt": null,
    "lastExecutedAt": 1685735993924,
    "lastScheduledRunId": null,
    "collapsed": false,
    "jupyter": {
     "source_hidden": true
    },
    "ExecuteTime": {
     "start_time": "2024-01-22T08:38:24.537639400Z"
    }
   },
   "id": "6339e0b9-13b9-454b-87ba-73c93acd956a",
   "cell_type": "code",
   "execution_count": null,
   "outputs": []
  },
  {
   "source": [
    "From the bar charts below, we can see the most frequent categories in model, transmission and fuelType variables - Yaris, Manual, Petrol in the dataset. "
   ],
   "metadata": {},
   "id": "37212e45-13cf-4296-a8b2-9ef007e3676f",
   "cell_type": "markdown"
  },
  {
   "source": [
    "fig, axes = plt.subplots(1,3,figsize=(15,5))\n",
    "sns.countplot(x=df['model'],color='gray',ax=axes[0]).set(title='Count of Cars Sold in Model')\n",
    "sns.countplot(x=df['transmission'],color='gray',ax=axes[1]).set(title='Count of Cars Sold in Transmission')\n",
    "sns.countplot(x=df['fuelType'],color='gray',ax=axes[2]).set(title='Count of Cars Sold in Fuel Type')\n",
    "for ax in fig.axes:\n",
    "    plt.sca(ax)\n",
    "    plt.xticks(rotation=90);"
   ],
   "metadata": {
    "executionTime": 620,
    "lastSuccessfullyExecutedCode": "fig, axes = plt.subplots(1,3,figsize=(15,5))\nsns.countplot(x=df['model'],color='gray',ax=axes[0]).set(title='Count of Cars Sold in Model')\nsns.countplot(x=df['transmission'],color='gray',ax=axes[1]).set(title='Count of Cars Sold in Transmission')\nsns.countplot(x=df['fuelType'],color='gray',ax=axes[2]).set(title='Count of Cars Sold in Fuel Type')\nfor ax in fig.axes:\n    plt.sca(ax)\n    plt.xticks(rotation=90);",
    "executionCancelledAt": null,
    "lastExecutedAt": 1685735994544,
    "lastScheduledRunId": null,
    "collapsed": false,
    "jupyter": {
     "source_hidden": true
    },
    "ExecuteTime": {
     "start_time": "2024-01-22T08:38:24.540639Z"
    }
   },
   "id": "d76e13d7-f947-48ac-878d-ec8122333274",
   "cell_type": "code",
   "execution_count": null,
   "outputs": []
  },
  {
   "source": [
    "fig, axes = plt.subplots(1,2,figsize=(20,5))\n",
    "sns.scatterplot(data=df, x='year',y='price',color='gray', ax=axes[0]).set(title='The Relationship Between Year and Price')\n",
    "sns.boxplot(data=df, x='engineSize',y='price',color='gray', ax=axes[1]).set(title='The Distribution of Price by Engine Size')\n",
    "for ax in fig.axes:\n",
    "    plt.sca(ax)\n",
    "    plt.xticks(rotation=90);"
   ],
   "metadata": {
    "executionTime": 480,
    "lastSuccessfullyExecutedCode": "fig, axes = plt.subplots(1,2,figsize=(20,5))\nsns.scatterplot(data=df, x='year',y='price',color='gray', ax=axes[0]).set(title='The Relationship Between Year and Price')\nsns.boxplot(data=df, x='engineSize',y='price',color='gray', ax=axes[1]).set(title='The Distribution of Price by Engine Size')\nfor ax in fig.axes:\n    plt.sca(ax)\n    plt.xticks(rotation=90);",
    "executionCancelledAt": null,
    "lastExecutedAt": 1685735995024,
    "lastScheduledRunId": null,
    "collapsed": false,
    "jupyter": {
     "source_hidden": true
    },
    "ExecuteTime": {
     "start_time": "2024-01-22T08:38:24.541639Z"
    }
   },
   "id": "d4aacf8f-9dd8-4c9d-bbb4-b66c9e24ec98",
   "cell_type": "code",
   "execution_count": null,
   "outputs": []
  },
  {
   "source": [
    "sns.scatterplot(data=df, x='year',y='price',color='gray', hue='engineSize').set(title='The Relationship Between Manufacture Year, Price and Engine Size');"
   ],
   "metadata": {
    "executionTime": 625,
    "lastSuccessfullyExecutedCode": "sns.scatterplot(data=df, x='year',y='price',color='gray', hue='engineSize').set(title='The Relationship Between Manufacture Year, Price and Engine Size');",
    "executionCancelledAt": null,
    "lastExecutedAt": 1685735995649,
    "lastScheduledRunId": null,
    "collapsed": false,
    "jupyter": {
     "source_hidden": true
    },
    "ExecuteTime": {
     "start_time": "2024-01-22T08:38:24.543639300Z"
    }
   },
   "id": "01be778d-5dd3-4ae0-9f0f-32685b231791",
   "cell_type": "code",
   "execution_count": null,
   "outputs": []
  },
  {
   "source": [
    "#### Relationship between Model, Transmission, fuelType and price\n",
    "\n",
    "I also investigated their relationship between price. From the boxplots below, we can see there is a difference in distribution of prices among each categories in each variable."
   ],
   "metadata": {},
   "id": "19837a33-9f32-4871-8cd0-1cce9c234248",
   "cell_type": "markdown"
  },
  {
   "source": [
    "fig, axes = plt.subplots(1,3,figsize=(20,5))\n",
    "sns.boxplot(data=df, x='model',y='price',color='gray',ax=axes[0]).set(title='The Distribution of Price by Model')\n",
    "sns.boxplot(data=df, x='transmission',y='price',color='gray',ax=axes[1]).set(title='The Distribution of Price by Transmission')\n",
    "sns.boxplot(data=df, x='fuelType',y='price',color='gray',ax=axes[2]).set(title='The Distribution of Price by Fuel Type')\n",
    "for ax in fig.axes:\n",
    "    plt.sca(ax)\n",
    "    plt.xticks(rotation=90);"
   ],
   "metadata": {
    "executionTime": 619,
    "lastSuccessfullyExecutedCode": "fig, axes = plt.subplots(1,3,figsize=(20,5))\nsns.boxplot(data=df, x='model',y='price',color='gray',ax=axes[0]).set(title='The Distribution of Price by Model')\nsns.boxplot(data=df, x='transmission',y='price',color='gray',ax=axes[1]).set(title='The Distribution of Price by Transmission')\nsns.boxplot(data=df, x='fuelType',y='price',color='gray',ax=axes[2]).set(title='The Distribution of Price by Fuel Type')\nfor ax in fig.axes:\n    plt.sca(ax)\n    plt.xticks(rotation=90);",
    "executionCancelledAt": null,
    "lastExecutedAt": 1685735996268,
    "lastScheduledRunId": null,
    "collapsed": false,
    "jupyter": {
     "source_hidden": true
    },
    "ExecuteTime": {
     "start_time": "2024-01-22T08:38:24.546642100Z"
    }
   },
   "id": "cf43130b-a408-4ad4-9ec2-7f9aded74e19",
   "cell_type": "code",
   "execution_count": null,
   "outputs": []
  },
  {
   "source": [
    "## Model Fitting & Evaluation\n",
    "Predicting the price is a regression problem in machine learning. I am choosing the Linear Regression model because we can see strong to moderate relationship between some features and target variable. The comparison model I am choosing is the Decision Tree regression model because it is easy to interpret with independence from outliers.\n",
    "\n",
    "For the evaluation, I am choosing **R squared** and **RMSE (Root Mean Squared Error)** to evaluate the model. R squared measures how well the model fits dependent variables (i.e. features). RMSE measures how much your predicted results deviate from the actual number. "
   ],
   "metadata": {},
   "id": "5c3f23b7-1dea-490d-bfb4-5eb591a5fa6f",
   "cell_type": "markdown"
  },
  {
   "source": [
    "### Prepare Data for Modelling\n",
    "To enable modelling, we chose year,model,transmission,mileage,fuelType,tax,engineSize as features, price as target variables. I also have made the following changes:\n",
    "- Normalize the numeric features\n",
    "- Convert the categorical variables into numeric features\n",
    "- Split the data into a training set and a test set"
   ],
   "metadata": {},
   "id": "c7f0885a-3596-4d94-b0e8-66d500d91d5e",
   "cell_type": "markdown"
  },
  {
   "source": [
    "df['price'] = np.log(df['price'])"
   ],
   "metadata": {
    "executionTime": 46,
    "lastSuccessfullyExecutedCode": "df['price'] = np.log(df['price'])",
    "executionCancelledAt": null,
    "lastExecutedAt": 1685735996314,
    "lastScheduledRunId": null,
    "ExecuteTime": {
     "start_time": "2024-01-22T08:38:24.547639Z"
    }
   },
   "id": "c22aecc6-ca87-488b-bae1-ed44289a05ea",
   "cell_type": "code",
   "execution_count": null,
   "outputs": []
  },
  {
   "source": [
    "labelencoder = LabelEncoder()\n",
    "df['model'] = labelencoder.fit_transform(df['model'])\n",
    "df['transmission'] = labelencoder.fit_transform(df['transmission'])\n",
    "df['fuelType'] = labelencoder.fit_transform(df['fuelType'])"
   ],
   "metadata": {
    "executionTime": 52,
    "lastSuccessfullyExecutedCode": "labelencoder = LabelEncoder()\ndf['model'] = labelencoder.fit_transform(df['model'])\ndf['transmission'] = labelencoder.fit_transform(df['transmission'])\ndf['fuelType'] = labelencoder.fit_transform(df['fuelType'])",
    "executionCancelledAt": null,
    "lastExecutedAt": 1685735996366,
    "lastScheduledRunId": null,
    "ExecuteTime": {
     "start_time": "2024-01-22T08:38:24.549638900Z"
    }
   },
   "id": "69795e41-8c8d-40ea-a118-b25826aa55d3",
   "cell_type": "code",
   "execution_count": null,
   "outputs": []
  },
  {
   "source": [
    "feature_cols = ['year','transmission','fuelType','engineSize','tax','model','mileage']\n",
    "X = df[feature_cols] # Features\n",
    "y = df['price'] # Target variable"
   ],
   "metadata": {
    "executionTime": 48,
    "lastSuccessfullyExecutedCode": "feature_cols = ['year','transmission','fuelType','engineSize','tax','model','mileage']\nX = df[feature_cols] # Features\ny = df['price'] # Target variable",
    "executionCancelledAt": null,
    "lastExecutedAt": 1685735996414,
    "lastScheduledRunId": null,
    "ExecuteTime": {
     "start_time": "2024-01-22T08:38:24.551643700Z"
    }
   },
   "id": "fe717c3b-6396-4002-81aa-7309379ca319",
   "cell_type": "code",
   "execution_count": null,
   "outputs": []
  },
  {
   "source": [
    "# define the scaler \n",
    "scaler = PowerTransformer()\n",
    "# fit and transform the train set\n",
    "X[['mileage']] = scaler.fit_transform(X[['mileage']])"
   ],
   "metadata": {
    "executionTime": 48,
    "lastSuccessfullyExecutedCode": "# define the scaler \nscaler = PowerTransformer()\n# fit and transform the train set\nX[['mileage']] = scaler.fit_transform(X[['mileage']])",
    "executionCancelledAt": null,
    "lastExecutedAt": 1685735996462,
    "lastScheduledRunId": null,
    "ExecuteTime": {
     "start_time": "2024-01-22T08:38:24.553643500Z"
    }
   },
   "id": "a13609cf-3a49-45cc-83aa-a326b9995963",
   "cell_type": "code",
   "execution_count": null,
   "outputs": []
  },
  {
   "source": [
    "X_train, X_test, y_train, y_test = train_test_split(X, y, test_size=0.3, random_state=42)"
   ],
   "metadata": {
    "executionTime": 47,
    "lastSuccessfullyExecutedCode": "X_train, X_test, y_train, y_test = train_test_split(X, y, test_size=0.3, random_state=42)",
    "executionCancelledAt": null,
    "lastExecutedAt": 1685735996510,
    "lastScheduledRunId": null,
    "ExecuteTime": {
     "end_time": "2024-01-22T08:38:24.697555900Z",
     "start_time": "2024-01-22T08:38:24.556639700Z"
    }
   },
   "id": "6dd58fee-a865-4a63-84d8-c342259c2195",
   "cell_type": "code",
   "execution_count": null,
   "outputs": []
  },
  {
   "source": [
    "### Linear Regression Model"
   ],
   "metadata": {},
   "id": "f73d0a07-d1fc-4414-9d7d-548fa7c61454",
   "cell_type": "markdown"
  },
  {
   "source": [
    "lr = LinearRegression()\n",
    "lr.fit(X_train, y_train)"
   ],
   "metadata": {
    "executionTime": 52,
    "lastSuccessfullyExecutedCode": "lr = LinearRegression()\nlr.fit(X_train, y_train)",
    "executionCancelledAt": null,
    "lastExecutedAt": 1685735996563,
    "lastScheduledRunId": null,
    "ExecuteTime": {
     "start_time": "2024-01-22T08:38:24.558638800Z"
    }
   },
   "id": "33f38324-5af5-4527-904e-cd776a618f3a",
   "cell_type": "code",
   "execution_count": null,
   "outputs": []
  },
  {
   "source": [
    "y_pred = lr.predict(X_test)\n",
    "\n",
    "print('Linear Regression r2_score: ',r2_score(y_test,y_pred))\n",
    "print('Linear Regression Root Mean Squared Error: ',np.sqrt(mean_squared_error(np.exp(y_test),np.exp(y_pred))))"
   ],
   "metadata": {
    "executionTime": 48,
    "lastSuccessfullyExecutedCode": "y_pred = lr.predict(X_test)\n\nprint('Linear Regression r2_score: ',r2_score(y_test,y_pred))\nprint('Linear Regression Root Mean Squared Error: ',np.sqrt(mean_squared_error(np.exp(y_test),np.exp(y_pred))))",
    "executionCancelledAt": null,
    "lastExecutedAt": 1685735996611,
    "lastScheduledRunId": null,
    "outputsMetadata": {
     "0": {
      "height": 56,
      "type": "stream"
     }
    },
    "ExecuteTime": {
     "start_time": "2024-01-22T08:38:24.560643100Z"
    }
   },
   "id": "220c99bd-cc27-4e43-afdf-15891eb2fcde",
   "cell_type": "code",
   "execution_count": null,
   "outputs": []
  },
  {
   "source": [
    "#### Finding the feature importance"
   ],
   "metadata": {},
   "id": "4a15ae84-f6e7-4ac9-966b-525830d3bd98",
   "cell_type": "markdown"
  },
  {
   "source": [
    "resultdict = {}\n",
    "for i in range(len(feature_cols)):\n",
    "    resultdict[feature_cols[i]] = lr.coef_[i]\n",
    "    \n",
    "plt.bar(resultdict.keys(),resultdict.values(), alpha=0.5,color='gray')\n",
    "plt.xticks(rotation='vertical')\n",
    "plt.title('Feature Importance in Linear Regression Model');"
   ],
   "metadata": {
    "executionTime": 224,
    "lastSuccessfullyExecutedCode": "resultdict = {}\nfor i in range(len(feature_cols)):\n    resultdict[feature_cols[i]] = lr.coef_[i]\n    \nplt.bar(resultdict.keys(),resultdict.values(), alpha=0.5,color='gray')\nplt.xticks(rotation='vertical')\nplt.title('Feature Importance in Linear Regression Model');",
    "executionCancelledAt": null,
    "lastExecutedAt": 1685735996835,
    "lastScheduledRunId": null,
    "collapsed": false,
    "jupyter": {
     "source_hidden": true
    },
    "ExecuteTime": {
     "start_time": "2024-01-22T08:38:24.563638500Z"
    }
   },
   "id": "1266842f-510c-454a-a4e4-bc030943a5de",
   "cell_type": "code",
   "execution_count": null,
   "outputs": []
  },
  {
   "source": [
    "### Decision Tree Regression Model"
   ],
   "metadata": {},
   "id": "e73c274f-e58b-4de8-9587-6dddefdae5b1",
   "cell_type": "markdown"
  },
  {
   "source": [
    "tree = DecisionTreeRegressor(max_depth=12,min_samples_split=2,random_state=42)\n",
    "tree.fit(X_train,y_train)\n",
    "y_pred2 = tree.predict(X_test)"
   ],
   "metadata": {
    "executionTime": 47,
    "lastSuccessfullyExecutedCode": "tree = DecisionTreeRegressor(max_depth=12,min_samples_split=2,random_state=42)\ntree.fit(X_train,y_train)\ny_pred2 = tree.predict(X_test)",
    "executionCancelledAt": null,
    "lastExecutedAt": 1685735996882,
    "lastScheduledRunId": null,
    "ExecuteTime": {
     "start_time": "2024-01-22T08:38:24.564638900Z"
    }
   },
   "id": "a33222ff-cc94-405a-9e40-14d74fa3eca9",
   "cell_type": "code",
   "execution_count": null,
   "outputs": []
  },
  {
   "source": [
    "d_r2 = tree.score(X_test, y_test)\n",
    "print(\"Decision Tree Regressor R-squared: {}\".format(d_r2))\n",
    "\n",
    "d_mse = mean_squared_error(np.exp(y_pred2), np.exp(y_test))\n",
    "d_rmse = np.sqrt(d_mse)\n",
    "print(\"Decision Tree Regressor RMSE: {}\".format(d_rmse))"
   ],
   "metadata": {
    "executionTime": 48,
    "lastSuccessfullyExecutedCode": "d_r2 = tree.score(X_test, y_test)\nprint(\"Decision Tree Regressor R-squared: {}\".format(d_r2))\n\nd_mse = mean_squared_error(np.exp(y_pred2), np.exp(y_test))\nd_rmse = np.sqrt(d_mse)\nprint(\"Decision Tree Regressor RMSE: {}\".format(d_rmse))",
    "executionCancelledAt": null,
    "lastExecutedAt": 1685735996931,
    "lastScheduledRunId": null,
    "outputsMetadata": {
     "0": {
      "height": 56,
      "type": "stream"
     }
    },
    "ExecuteTime": {
     "start_time": "2024-01-22T08:38:24.566643300Z"
    }
   },
   "id": "8fda71c4-c974-4f23-934a-fc0c21b741a4",
   "cell_type": "code",
   "execution_count": null,
   "outputs": []
  },
  {
   "source": [
    "#### Finding the best parameter for Decision Tree Regression Model"
   ],
   "metadata": {},
   "id": "ca623729-b327-495b-b0b8-d2b84fbf5716",
   "cell_type": "markdown"
  },
  {
   "source": [
    "train_score = []\n",
    "test_score = []\n",
    "max_score = 0\n",
    "max_pair = (0,0)\n",
    "\n",
    "for i in range(1,50):\n",
    "    tree = DecisionTreeRegressor(max_depth=i,random_state=42)\n",
    "    tree.fit(X_train,y_train)\n",
    "    y_pred = tree.predict(X_test)\n",
    "    train_score.append(tree.score(X_train,y_train))\n",
    "    test_score.append(r2_score(y_test,y_pred))\n",
    "    test_pair = (i,r2_score(y_test,y_pred))\n",
    "    if test_pair[1] > max_pair[1]:\n",
    "        max_pair = test_pair\n",
    "\n",
    "fig, ax = plt.subplots()\n",
    "ax.plot(np.arange(1,50), train_score, label = \"Training R^2\",color='lightcoral')\n",
    "ax.plot(np.arange(1,50), test_score, label = \"Testing R^2\",color='lime')\n",
    "print(f'Best max_depth is: {max_pair[0]} \\nTesting R^2 is: {max_pair[1]}')"
   ],
   "metadata": {
    "executionTime": 721,
    "lastSuccessfullyExecutedCode": "train_score = []\ntest_score = []\nmax_score = 0\nmax_pair = (0,0)\n\nfor i in range(1,50):\n    tree = DecisionTreeRegressor(max_depth=i,random_state=42)\n    tree.fit(X_train,y_train)\n    y_pred = tree.predict(X_test)\n    train_score.append(tree.score(X_train,y_train))\n    test_score.append(r2_score(y_test,y_pred))\n    test_pair = (i,r2_score(y_test,y_pred))\n    if test_pair[1] > max_pair[1]:\n        max_pair = test_pair\n\nfig, ax = plt.subplots()\nax.plot(np.arange(1,50), train_score, label = \"Training R^2\",color='lightcoral')\nax.plot(np.arange(1,50), test_score, label = \"Testing R^2\",color='lime')\nprint(f'Best max_depth is: {max_pair[0]} \\nTesting R^2 is: {max_pair[1]}')",
    "executionCancelledAt": null,
    "lastExecutedAt": 1685735997652,
    "lastScheduledRunId": null,
    "collapsed": false,
    "jupyter": {
     "source_hidden": true
    },
    "ExecuteTime": {
     "start_time": "2024-01-22T08:38:24.568646400Z"
    }
   },
   "id": "39649cd0-3b40-46de-b73a-cb037a915c05",
   "cell_type": "code",
   "execution_count": null,
   "outputs": []
  },
  {
   "source": [
    "#### Finding the feature importance"
   ],
   "metadata": {},
   "id": "5832bd96-17c4-4e26-bca7-44ab61d4d203",
   "cell_type": "markdown"
  },
  {
   "source": [
    "importance = tree.feature_importances_\n",
    "new_column_names=['Year','Transmission', 'Fuel Type','Engine Size','Tax','Model','Mileage']\n",
    "f_importance = {}\n",
    "for i in range(len(feature_cols)):\n",
    "     f_importance[new_column_names[i]] = importance[i]\n",
    "        \n",
    "plt.bar(f_importance.keys(),f_importance.values(),alpha=0.5,color='gray')\n",
    "plt.xticks(rotation=45)\n",
    "plt.title('Feature Importance in Decision Tree Regression Model');"
   ],
   "metadata": {
    "executionTime": 167,
    "lastSuccessfullyExecutedCode": "importance = tree.feature_importances_\nnew_column_names=['Year','Transmission', 'Fuel Type','Engine Size','Tax','Model','Mileage']\nf_importance = {}\nfor i in range(len(feature_cols)):\n     f_importance[new_column_names[i]] = importance[i]\n        \nplt.bar(f_importance.keys(),f_importance.values(),alpha=0.5,color='gray')\nplt.xticks(rotation=45)\nplt.title('Feature Importance in Decision Tree Regression Model');",
    "executionCancelledAt": null,
    "lastExecutedAt": 1685735997819,
    "lastScheduledRunId": null,
    "collapsed": false,
    "jupyter": {
     "source_hidden": true
    },
    "ExecuteTime": {
     "start_time": "2024-01-22T08:38:24.570638700Z"
    }
   },
   "id": "0a644512-41c0-4af0-834a-4bc272008009",
   "cell_type": "code",
   "execution_count": null,
   "outputs": []
  },
  {
   "source": [
    "## Results\n",
    "The R squared of the Linear Regression, and the Decision Tree Regression model is 0.86 and 0.94, meaning the **Decision Tree Regression model fits the features better.** The RMSE of the Linear Regression, and the Decision Tree Regression model is 2491 and 1611, meaning the **Decision Tree Regression model has less error in predicting values.**"
   ],
   "metadata": {},
   "id": "59925d72-6f76-4eba-a872-8eb3453c23ac",
   "cell_type": "markdown"
  },
  {
   "source": [
    "### Evaluate by Business Criteria\n",
    "The company wants to avoid prediction out of a range - within 10% of the actual price. Therefore, we would consider using percentage of predictions within 10% of the actual price as a KPI to compare the two models again. The higher the percentage, the better the model performs. 69.4% of the decision tree regressor prediction is within 10% of the actual price, while the linear regression model only have 61.8%."
   ],
   "metadata": {},
   "id": "4b369865-7188-4821-a737-839d5e3e541d",
   "cell_type": "markdown"
  },
  {
   "source": [
    "X_test['Predicted_price'] = np.round(np.exp(y_pred),0)\n",
    "X_test['Price'] = np.round(np.exp(y_test),0)\n",
    "lr_e = X_test\n",
    "lr_e['Diff'] = (lr_e['Predicted_price'] - lr_e['Price'])/lr_e['Price']\n",
    "within_10pct = len([d for d in lr_e['Diff'] if abs(d) <= 0.1])\n",
    "pct_lr = within_10pct/len(lr_e['Diff'])       \n",
    "print(f'Percentage of predictions within +/- 10% range: {pct_lr}')"
   ],
   "metadata": {
    "executionTime": 48,
    "lastSuccessfullyExecutedCode": "X_test['Predicted_price'] = np.round(np.exp(y_pred),0)\nX_test['Price'] = np.round(np.exp(y_test),0)\nlr_e = X_test\nlr_e['Diff'] = (lr_e['Predicted_price'] - lr_e['Price'])/lr_e['Price']\nwithin_10pct = len([d for d in lr_e['Diff'] if abs(d) <= 0.1])\npct_lr = within_10pct/len(lr_e['Diff'])       \nprint(f'Percentage of predictions within +/- 10% range: {pct_lr}')",
    "executionCancelledAt": null,
    "lastExecutedAt": 1685735997867,
    "lastScheduledRunId": null,
    "collapsed": false,
    "jupyter": {
     "source_hidden": true
    },
    "ExecuteTime": {
     "start_time": "2024-01-22T08:38:24.572643800Z"
    }
   },
   "id": "c5da20ba-ef51-418f-8142-0a9217dba73b",
   "cell_type": "code",
   "execution_count": null,
   "outputs": []
  },
  {
   "source": [
    "lr_e['Diff'] = (lr_e['Predicted_price'] - lr_e['Price'])/lr_e['Price']\n",
    "plt.hist(lr_e['Diff'], bins=20, color='gray',alpha=0.5)\n",
    "plt.axvline(x=0.1, color='b', linestyle='--', label='+/- 10% range')\n",
    "plt.axvline(x=-0.1, color='b', linestyle='--')\n",
    "plt.title('Percentage Difference between Actual and Predicted Prices')\n",
    "plt.suptitle('Linear Regression Model')\n",
    "plt.xlabel('Percentage Difference')\n",
    "plt.ylabel('Count');"
   ],
   "metadata": {
    "executionTime": 235,
    "lastSuccessfullyExecutedCode": "lr_e['Diff'] = (lr_e['Predicted_price'] - lr_e['Price'])/lr_e['Price']\nplt.hist(lr_e['Diff'], bins=20, color='gray',alpha=0.5)\nplt.axvline(x=0.1, color='b', linestyle='--', label='+/- 10% range')\nplt.axvline(x=-0.1, color='b', linestyle='--')\nplt.title('Percentage Difference between Actual and Predicted Prices')\nplt.suptitle('Linear Regression Model')\nplt.xlabel('Percentage Difference')\nplt.ylabel('Count');",
    "executionCancelledAt": null,
    "lastExecutedAt": 1685735998102,
    "lastScheduledRunId": null,
    "collapsed": false,
    "jupyter": {
     "source_hidden": true
    },
    "ExecuteTime": {
     "start_time": "2024-01-22T08:38:24.574638400Z"
    }
   },
   "id": "39fc01bf-915b-4bf1-875e-a6d642d64d59",
   "cell_type": "code",
   "execution_count": null,
   "outputs": []
  },
  {
   "source": [
    "X_test['Predicted_price'] = np.round(np.exp(y_pred2),0)\n",
    "X_test['Price'] = np.round(np.exp(y_test),0)\n",
    "tree_e = X_test\n",
    "tree_e['Diff'] = (tree_e['Predicted_price'] - tree_e['Price'])/tree_e['Price']\n",
    "within_10pct = len([d for d in tree_e['Diff'] if abs(d) <= 0.1])\n",
    "pct_tree = within_10pct/len(tree_e['Diff'])       \n",
    "print(f'Percentage of predictions within +/- 10% range: {pct_tree}')"
   ],
   "metadata": {
    "executionTime": 47,
    "lastSuccessfullyExecutedCode": "X_test['Predicted_price'] = np.round(np.exp(y_pred2),0)\nX_test['Price'] = np.round(np.exp(y_test),0)\ntree_e = X_test\ntree_e['Diff'] = (tree_e['Predicted_price'] - tree_e['Price'])/tree_e['Price']\nwithin_10pct = len([d for d in tree_e['Diff'] if abs(d) <= 0.1])\npct_tree = within_10pct/len(tree_e['Diff'])       \nprint(f'Percentage of predictions within +/- 10% range: {pct_tree}')",
    "executionCancelledAt": null,
    "lastExecutedAt": 1685735998150,
    "lastScheduledRunId": null,
    "collapsed": false,
    "jupyter": {
     "source_hidden": true
    },
    "ExecuteTime": {
     "start_time": "2024-01-22T08:38:24.576639100Z"
    }
   },
   "id": "f73d9d91-e6e1-4628-9df1-211ffae49ead",
   "cell_type": "code",
   "execution_count": null,
   "outputs": []
  },
  {
   "source": [
    "plt.hist(tree_e['Diff'], bins=20,color='gray', alpha=0.5)\n",
    "plt.axvline(x=0.1, color='b', linestyle='--', label='+/- 10% range')\n",
    "plt.axvline(x=-0.1, color='b', linestyle='--')\n",
    "plt.title('Percentage Difference between Actual and Predicted Prices')\n",
    "plt.suptitle('Decision Tree Model')\n",
    "plt.xlabel('Percentage Difference')\n",
    "plt.ylabel('Count');"
   ],
   "metadata": {
    "executionTime": 316,
    "lastSuccessfullyExecutedCode": "plt.hist(tree_e['Diff'], bins=20,color='gray', alpha=0.5)\nplt.axvline(x=0.1, color='b', linestyle='--', label='+/- 10% range')\nplt.axvline(x=-0.1, color='b', linestyle='--')\nplt.title('Percentage Difference between Actual and Predicted Prices')\nplt.suptitle('Decision Tree Model')\nplt.xlabel('Percentage Difference')\nplt.ylabel('Count');",
    "executionCancelledAt": null,
    "lastExecutedAt": 1685735998467,
    "lastScheduledRunId": null,
    "collapsed": false,
    "jupyter": {
     "source_hidden": true
    },
    "ExecuteTime": {
     "start_time": "2024-01-22T08:38:24.578644100Z"
    }
   },
   "id": "7f0acf7c-1e58-40f6-bae4-b9d03b627dd0",
   "cell_type": "code",
   "execution_count": null,
   "outputs": []
  },
  {
   "source": [
    "da = [pct_lr,pct_tree]\n",
    "labels =['Linear Regression Model','Decision Tree Model']\n",
    "plt.bar(labels, da,color='gray', alpha=0.5)\n",
    "\n",
    "\n",
    "# Add labels to the chart\n",
    "plt.title('Linear Regress Model v.s Decision Tree Model')\n",
    "plt.xlabel('Model')\n",
    "plt.ylabel('Proportion of predictions within 10%')\n",
    "\n",
    "# Show the chart\n",
    "plt.show()"
   ],
   "metadata": {
    "executionTime": 119,
    "lastSuccessfullyExecutedCode": "da = [pct_lr,pct_tree]\nlabels =['Linear Regression Model','Decision Tree Model']\nplt.bar(labels, da,color='gray', alpha=0.5)\n\n\n# Add labels to the chart\nplt.title('Linear Regress Model v.s Decision Tree Model')\nplt.xlabel('Model')\nplt.ylabel('Proportion of predictions within 10%')\n\n# Show the chart\nplt.show()",
    "executionCancelledAt": null,
    "lastExecutedAt": 1685735998586,
    "lastScheduledRunId": null,
    "collapsed": false,
    "jupyter": {
     "source_hidden": true
    },
    "ExecuteTime": {
     "start_time": "2024-01-22T08:38:24.580643400Z"
    }
   },
   "id": "4e28fe2e-fb0f-4ee2-af12-a871fc1c883f",
   "cell_type": "code",
   "execution_count": null,
   "outputs": []
  },
  {
   "source": [
    "## Recommendation \n",
    "\n",
    "To smooth out the difficulities we might face when the most experienced sales team member retires, we can plan to deploy this **Decision Tree Regression Model** into production. By implementing this model, about 70% of the prediction will within 10% of the price. This will help automate the whole process and sell cars quicker. I will recommend the following steps to ensure the model can be deployed and improved regularly.\n",
    "\n",
    "1. Test the model in the recent month and compare its prediction to the estimations of the experienced member on new cars.\n",
    "\n",
    "2. Identify and fix errors to improve accuracy after testing.\n",
    "\n",
    "3. Fully deploy the model using efficient deployment strategy, such as a web or mobile application or API.\n",
    "\n",
    "4. Continuously improve the model by collecting more data, feature engineer and fine tuning parameter. This would be the key points to address the limitation from the year and car model variable.\n",
    "\n"
   ],
   "metadata": {},
   "id": "32cf5b0f-99b6-466e-98b3-74d21608b732",
   "cell_type": "markdown"
  }
 ],
 "metadata": {
  "language_info": {
   "name": "python",
   "version": "3.8.10",
   "mimetype": "text/x-python",
   "codemirror_mode": {
    "name": "ipython",
    "version": 3
   },
   "pygments_lexer": "ipython3",
   "nbconvert_exporter": "python",
   "file_extension": ".py"
  },
  "kernelspec": {
   "display_name": "Python 3 (ipykernel)",
   "language": "python",
   "name": "python3"
  },
  "editor": "DataCamp Workspace"
 },
 "nbformat": 4,
 "nbformat_minor": 5
}
