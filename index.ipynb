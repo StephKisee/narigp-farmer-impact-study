{
 "cells": [
  {
   "cell_type": "code",
   "outputs": [],
   "source": [
    "from src import *"
   ],
   "metadata": {
    "collapsed": false
   },
   "id": "e4f3da732fe875e4"
  },
  {
   "cell_type": "code",
   "execution_count": null,
   "id": "initial_id",
   "metadata": {
    "collapsed": true
   },
   "outputs": [],
   "source": [
    "survey = pd.read_excel('./data/raw/NARIG_Survey.xlsx', usecols='A:EG')\n",
    "column_names = pd.read_json('./data/processed/json/column_names.json', typ='series')\n",
    "\n",
    "survey.rename(columns=column_names, inplace=True)\n",
    "survey.replace(replace_map, inplace=True)\n",
    "survey.replace(ordinal_map, inplace=True)\n",
    "\n",
    "survey['age'] = survey['age'].replace(0, np.nan)\n",
    "survey['gender'] = survey['gender'].str.split().str[-1]\n",
    "\n",
    "orig_col_order = list(survey.columns)"
   ]
  }
 ],
 "metadata": {
  "kernelspec": {
   "display_name": "Python 3",
   "language": "python",
   "name": "python3"
  },
  "language_info": {
   "codemirror_mode": {
    "name": "ipython",
    "version": 2
   },
   "file_extension": ".py",
   "mimetype": "text/x-python",
   "name": "python",
   "nbconvert_exporter": "python",
   "pygments_lexer": "ipython2",
   "version": "2.7.6"
  }
 },
 "nbformat": 4,
 "nbformat_minor": 5
}
